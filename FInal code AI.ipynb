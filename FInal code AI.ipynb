{
 "cells": [
  {
   "cell_type": "code",
   "execution_count": 1,
   "id": "5aa71cfb",
   "metadata": {},
   "outputs": [],
   "source": [
    "import pandas as pd\n",
    "import numpy as np\n",
    "from numpy import loadtxt\n",
    "import matplotlib.pyplot as plt\n",
    "from nltk.corpus import stopwords\n",
    "from nltk.stem.porter import PorterStemmer\n",
    "from sklearn.feature_extraction.text import TfidfVectorizer\n",
    "from sklearn.model_selection import train_test_split\n",
    "from sklearn.linear_model import LogisticRegression\n",
    "from sklearn.svm import SVC\n",
    "from sklearn.ensemble import RandomForestClassifier\n",
    "from sklearn.tree import DecisionTreeClassifier\n",
    "from sklearn.neighbors import KNeighborsClassifier\n",
    "from sklearn.ensemble import GradientBoostingClassifier\n",
    "from sklearn.metrics import accuracy_score, confusion_matrix\n",
    "import re"
   ]
  },
  {
   "cell_type": "code",
   "execution_count": 2,
   "id": "e2f8b204",
   "metadata": {
    "scrolled": false
   },
   "outputs": [
    {
     "data": {
      "text/html": [
       "<div>\n",
       "<style scoped>\n",
       "    .dataframe tbody tr th:only-of-type {\n",
       "        vertical-align: middle;\n",
       "    }\n",
       "\n",
       "    .dataframe tbody tr th {\n",
       "        vertical-align: top;\n",
       "    }\n",
       "\n",
       "    .dataframe thead th {\n",
       "        text-align: right;\n",
       "    }\n",
       "</style>\n",
       "<table border=\"1\" class=\"dataframe\">\n",
       "  <thead>\n",
       "    <tr style=\"text-align: right;\">\n",
       "      <th></th>\n",
       "      <th>label</th>\n",
       "      <th>id</th>\n",
       "      <th>date</th>\n",
       "      <th>user_id</th>\n",
       "      <th>text</th>\n",
       "      <th>pic_url</th>\n",
       "      <th>video_url</th>\n",
       "      <th>comment_num</th>\n",
       "      <th>repost_num</th>\n",
       "      <th>like_num</th>\n",
       "      <th>analysis</th>\n",
       "    </tr>\n",
       "  </thead>\n",
       "  <tbody>\n",
       "    <tr>\n",
       "      <th>0</th>\n",
       "      <td>0</td>\n",
       "      <td>460b078edd44280dc2535535add5d2fa</td>\n",
       "      <td>2020-02-06 10:48</td>\n",
       "      <td>8b1bc48b06fb7ad014182cc91be44156</td>\n",
       "      <td>这是发生在重症隔离病房里，一个小朋友对医生说的话我不想让妈妈哭😭 不是晚一点，是你不会si的...</td>\n",
       "      <td>[]</td>\n",
       "      <td>http://f.video.weibocdn.com/000lGgVrlx07AJGBul...</td>\n",
       "      <td>4</td>\n",
       "      <td>2</td>\n",
       "      <td>30</td>\n",
       "      <td>经查，该视频所称“武汉重症隔离病房里，一个小朋友对医生说的话”，实为电影《倾城之泪》中的片段...</td>\n",
       "    </tr>\n",
       "    <tr>\n",
       "      <th>1</th>\n",
       "      <td>0</td>\n",
       "      <td>2ea0c40dbb900959069a62609f10909c</td>\n",
       "      <td>2020-07-03 10:51</td>\n",
       "      <td>40e2e17e668a3e6b01506f7fedd64bd6</td>\n",
       "      <td>#北京健康宝崩了#，没了健康宝，什么也做不了，#北京# 上班也迟到了，希望能尽快修好，加油健...</td>\n",
       "      <td>[]</td>\n",
       "      <td>http://f.video.weibocdn.com/003exorvgx07ExKn4n...</td>\n",
       "      <td>0</td>\n",
       "      <td>0</td>\n",
       "      <td>0</td>\n",
       "      <td>经查，该微博发视频称“健康宝崩了进不了地铁”不实，北京地铁官方回应：北京地铁目前没有采取进站...</td>\n",
       "    </tr>\n",
       "    <tr>\n",
       "      <th>2</th>\n",
       "      <td>0</td>\n",
       "      <td>d7814922985f7b337347ffc0ff0eae56</td>\n",
       "      <td>2020-02-22 23:00</td>\n",
       "      <td>b75f00f6210a0e7543f623fbee435f37</td>\n",
       "      <td>【疫情当前，大意不得：全国已有12起复工后聚集性疫情发生】近期全国陆续复工，据不完全统计，复...</td>\n",
       "      <td>[]</td>\n",
       "      <td>NaN</td>\n",
       "      <td>3</td>\n",
       "      <td>2</td>\n",
       "      <td>4</td>\n",
       "      <td>经查，该微博称“内蒙古赤峰一发电厂复工后发生的聚集性疫情”不实，@赤峰市公安局官方微博 已辟...</td>\n",
       "    </tr>\n",
       "    <tr>\n",
       "      <th>3</th>\n",
       "      <td>0</td>\n",
       "      <td>e7ba5f3eab27e4d11acf903e1f7229c9</td>\n",
       "      <td>2020-02-19 11:24</td>\n",
       "      <td>ab592925d8db644da43c77b9ce5f8885</td>\n",
       "      <td>学校开学时间：高三，初三，3月2日开学，高一，高二，初一，初二，3月9日开学，小学4一6年级...</td>\n",
       "      <td>[]</td>\n",
       "      <td>NaN</td>\n",
       "      <td>0</td>\n",
       "      <td>0</td>\n",
       "      <td>0</td>\n",
       "      <td>经查，该微博称“3月16日居民出行正常化”不实，@中国互联网联合辟谣平台 已辟谣：类似信息已...</td>\n",
       "    </tr>\n",
       "    <tr>\n",
       "      <th>4</th>\n",
       "      <td>0</td>\n",
       "      <td>91bf7a5e1bd92f46aecefb4668799be4</td>\n",
       "      <td>2020-03-19 21:10</td>\n",
       "      <td>7f19dfabb4ab6874dba723a22be6c0c5</td>\n",
       "      <td>美国的10艘医疗军舰已经开进纽约港，每艘船上有1000张病床，上面拥有所有的医疗抢救设施，每...</td>\n",
       "      <td>[]</td>\n",
       "      <td>NaN</td>\n",
       "      <td>16</td>\n",
       "      <td>2</td>\n",
       "      <td>9</td>\n",
       "      <td>经查，该微博称“美国的10艘医疗军舰已经开进纽约港”不实，@捉谣记 已辟谣：美国总统特朗普3...</td>\n",
       "    </tr>\n",
       "  </tbody>\n",
       "</table>\n",
       "</div>"
      ],
      "text/plain": [
       "   label                                id              date  \\\n",
       "0      0  460b078edd44280dc2535535add5d2fa  2020-02-06 10:48   \n",
       "1      0  2ea0c40dbb900959069a62609f10909c  2020-07-03 10:51   \n",
       "2      0  d7814922985f7b337347ffc0ff0eae56  2020-02-22 23:00   \n",
       "3      0  e7ba5f3eab27e4d11acf903e1f7229c9  2020-02-19 11:24   \n",
       "4      0  91bf7a5e1bd92f46aecefb4668799be4  2020-03-19 21:10   \n",
       "\n",
       "                            user_id  \\\n",
       "0  8b1bc48b06fb7ad014182cc91be44156   \n",
       "1  40e2e17e668a3e6b01506f7fedd64bd6   \n",
       "2  b75f00f6210a0e7543f623fbee435f37   \n",
       "3  ab592925d8db644da43c77b9ce5f8885   \n",
       "4  7f19dfabb4ab6874dba723a22be6c0c5   \n",
       "\n",
       "                                                text pic_url  \\\n",
       "0  这是发生在重症隔离病房里，一个小朋友对医生说的话我不想让妈妈哭😭 不是晚一点，是你不会si的...      []   \n",
       "1  #北京健康宝崩了#，没了健康宝，什么也做不了，#北京# 上班也迟到了，希望能尽快修好，加油健...      []   \n",
       "2  【疫情当前，大意不得：全国已有12起复工后聚集性疫情发生】近期全国陆续复工，据不完全统计，复...      []   \n",
       "3  学校开学时间：高三，初三，3月2日开学，高一，高二，初一，初二，3月9日开学，小学4一6年级...      []   \n",
       "4  美国的10艘医疗军舰已经开进纽约港，每艘船上有1000张病床，上面拥有所有的医疗抢救设施，每...      []   \n",
       "\n",
       "                                           video_url  comment_num  repost_num  \\\n",
       "0  http://f.video.weibocdn.com/000lGgVrlx07AJGBul...            4           2   \n",
       "1  http://f.video.weibocdn.com/003exorvgx07ExKn4n...            0           0   \n",
       "2                                                NaN            3           2   \n",
       "3                                                NaN            0           0   \n",
       "4                                                NaN           16           2   \n",
       "\n",
       "   like_num                                           analysis  \n",
       "0        30  经查，该视频所称“武汉重症隔离病房里，一个小朋友对医生说的话”，实为电影《倾城之泪》中的片段...  \n",
       "1         0  经查，该微博发视频称“健康宝崩了进不了地铁”不实，北京地铁官方回应：北京地铁目前没有采取进站...  \n",
       "2         4  经查，该微博称“内蒙古赤峰一发电厂复工后发生的聚集性疫情”不实，@赤峰市公安局官方微博 已辟...  \n",
       "3         0  经查，该微博称“3月16日居民出行正常化”不实，@中国互联网联合辟谣平台 已辟谣：类似信息已...  \n",
       "4         9  经查，该微博称“美国的10艘医疗军舰已经开进纽约港”不实，@捉谣记 已辟谣：美国总统特朗普3...  "
      ]
     },
     "execution_count": 2,
     "metadata": {},
     "output_type": "execute_result"
    }
   ],
   "source": [
    "fake = pd.read_csv('fake_news.csv')\n",
    "true = pd.read_csv('real_news.csv')\n",
    "fake[\"label\"] = 0\n",
    "true[\"label\"] = 1\n",
    "data = pd.concat([fake,true], axis =0 )\n",
    "data.head()"
   ]
  },
  {
   "cell_type": "code",
   "execution_count": 3,
   "id": "68ea5d36",
   "metadata": {},
   "outputs": [
    {
     "data": {
      "text/plain": [
       "(2104, 11)"
      ]
     },
     "execution_count": 3,
     "metadata": {},
     "output_type": "execute_result"
    }
   ],
   "source": [
    "data.shape"
   ]
  },
  {
   "cell_type": "code",
   "execution_count": 4,
   "id": "b34ca684",
   "metadata": {},
   "outputs": [
    {
     "data": {
      "text/plain": [
       "Index(['label', 'id', 'date', 'user_id', 'text', 'pic_url', 'video_url',\n",
       "       'comment_num', 'repost_num', 'like_num', 'analysis'],\n",
       "      dtype='object')"
      ]
     },
     "execution_count": 4,
     "metadata": {},
     "output_type": "execute_result"
    }
   ],
   "source": [
    "data.columns"
   ]
  },
  {
   "cell_type": "code",
   "execution_count": 5,
   "id": "d795fa53",
   "metadata": {},
   "outputs": [
    {
     "data": {
      "text/plain": [
       "label             0\n",
       "id                0\n",
       "date              0\n",
       "user_id           0\n",
       "text              0\n",
       "pic_url           0\n",
       "video_url      1435\n",
       "comment_num       0\n",
       "repost_num        0\n",
       "like_num          0\n",
       "analysis       1761\n",
       "dtype: int64"
      ]
     },
     "execution_count": 5,
     "metadata": {},
     "output_type": "execute_result"
    }
   ],
   "source": [
    "data.isnull().sum() # checking null values"
   ]
  },
  {
   "cell_type": "markdown",
   "id": "4657eadb",
   "metadata": {},
   "source": [
    "# DATA PREPROCESSING"
   ]
  },
  {
   "cell_type": "code",
   "execution_count": 6,
   "id": "a6f9dc72",
   "metadata": {},
   "outputs": [],
   "source": [
    "df = data.copy()"
   ]
  },
  {
   "cell_type": "code",
   "execution_count": 7,
   "id": "81aeacf7",
   "metadata": {},
   "outputs": [],
   "source": [
    "df['News'] = df['text']+df['analysis']"
   ]
  },
  {
   "cell_type": "code",
   "execution_count": 8,
   "id": "fe086578",
   "metadata": {
    "scrolled": false
   },
   "outputs": [
    {
     "data": {
      "text/html": [
       "<div>\n",
       "<style scoped>\n",
       "    .dataframe tbody tr th:only-of-type {\n",
       "        vertical-align: middle;\n",
       "    }\n",
       "\n",
       "    .dataframe tbody tr th {\n",
       "        vertical-align: top;\n",
       "    }\n",
       "\n",
       "    .dataframe thead th {\n",
       "        text-align: right;\n",
       "    }\n",
       "</style>\n",
       "<table border=\"1\" class=\"dataframe\">\n",
       "  <thead>\n",
       "    <tr style=\"text-align: right;\">\n",
       "      <th></th>\n",
       "      <th>label</th>\n",
       "      <th>id</th>\n",
       "      <th>date</th>\n",
       "      <th>user_id</th>\n",
       "      <th>text</th>\n",
       "      <th>pic_url</th>\n",
       "      <th>video_url</th>\n",
       "      <th>comment_num</th>\n",
       "      <th>repost_num</th>\n",
       "      <th>like_num</th>\n",
       "      <th>analysis</th>\n",
       "      <th>News</th>\n",
       "    </tr>\n",
       "  </thead>\n",
       "  <tbody>\n",
       "    <tr>\n",
       "      <th>1755</th>\n",
       "      <td>1</td>\n",
       "      <td>6a62afd4dc6de5d599975be1cef6a3f3</td>\n",
       "      <td>2020-02-29 16:01</td>\n",
       "      <td>43a971db6364c4ed7cd101feca243600</td>\n",
       "      <td>【人民直播：#湖北疫情防控工作发布会#】2月29日下午四点，湖北省新型冠状病毒肺炎疫情防控工...</td>\n",
       "      <td>[]</td>\n",
       "      <td>http://f.video.weibocdn.com/h0ri4Cgvlx07Buicyt...</td>\n",
       "      <td>2091</td>\n",
       "      <td>263</td>\n",
       "      <td>21436</td>\n",
       "      <td>NaN</td>\n",
       "      <td>NaN</td>\n",
       "    </tr>\n",
       "    <tr>\n",
       "      <th>1756</th>\n",
       "      <td>1</td>\n",
       "      <td>cb3b1576b7229f233d1abca276db6934</td>\n",
       "      <td>2020-07-06 16:10</td>\n",
       "      <td>43a971db6364c4ed7cd101feca243600</td>\n",
       "      <td>【牛津大学最新研究：#新冠病毒在亚洲出现前已在其他地方出现#】据《每日电讯报》，牛津大学循证...</td>\n",
       "      <td>['https://wx4.sinaimg.cn/orj360/a716fd45ly1ggh...</td>\n",
       "      <td>NaN</td>\n",
       "      <td>6067</td>\n",
       "      <td>8209</td>\n",
       "      <td>311841</td>\n",
       "      <td>NaN</td>\n",
       "      <td>NaN</td>\n",
       "    </tr>\n",
       "    <tr>\n",
       "      <th>1757</th>\n",
       "      <td>1</td>\n",
       "      <td>83c7e8e9373dc4282274ad8b65ae9e3b</td>\n",
       "      <td>2020-04-18 07:47</td>\n",
       "      <td>43a971db6364c4ed7cd101feca243600</td>\n",
       "      <td>【#世卫组织肯定中国订正新冠病例数据#】世界卫生组织卫生紧急项目技术负责人范凯尔克霍弗周五表...</td>\n",
       "      <td>[]</td>\n",
       "      <td>http://miaopai.video.weibocdn.com/BdBn0Zyklx07...</td>\n",
       "      <td>2009</td>\n",
       "      <td>1784</td>\n",
       "      <td>41240</td>\n",
       "      <td>NaN</td>\n",
       "      <td>NaN</td>\n",
       "    </tr>\n",
       "    <tr>\n",
       "      <th>1758</th>\n",
       "      <td>1</td>\n",
       "      <td>ed1e051bd90472ffafa6bc29a021c4e4</td>\n",
       "      <td>2020-03-27 14:46</td>\n",
       "      <td>43a971db6364c4ed7cd101feca243600</td>\n",
       "      <td>【#疫情防控期被没收的幺鸡回家了#】25日，四川成都天府新区公安分局兴隆派出所民警将“代养”...</td>\n",
       "      <td>[]</td>\n",
       "      <td>http://miaopai.video.weibocdn.com/UDIQS4eslx07...</td>\n",
       "      <td>659</td>\n",
       "      <td>539</td>\n",
       "      <td>5327</td>\n",
       "      <td>NaN</td>\n",
       "      <td>NaN</td>\n",
       "    </tr>\n",
       "    <tr>\n",
       "      <th>1759</th>\n",
       "      <td>1</td>\n",
       "      <td>a07e12c7863ceb9bb9336b28286ef183</td>\n",
       "      <td>2020-02-08 23:26</td>\n",
       "      <td>43a971db6364c4ed7cd101feca243600</td>\n",
       "      <td>【#多地地标元宵节亮灯为武汉加油#】2月8日，农历正月十五，元宵佳节。深圳、杭州、西安、成都...</td>\n",
       "      <td>[]</td>\n",
       "      <td>http://f.video.weibocdn.com/003K3YDjlx07ANIqmK...</td>\n",
       "      <td>1841</td>\n",
       "      <td>2186</td>\n",
       "      <td>16558</td>\n",
       "      <td>NaN</td>\n",
       "      <td>NaN</td>\n",
       "    </tr>\n",
       "  </tbody>\n",
       "</table>\n",
       "</div>"
      ],
      "text/plain": [
       "      label                                id              date  \\\n",
       "1755      1  6a62afd4dc6de5d599975be1cef6a3f3  2020-02-29 16:01   \n",
       "1756      1  cb3b1576b7229f233d1abca276db6934  2020-07-06 16:10   \n",
       "1757      1  83c7e8e9373dc4282274ad8b65ae9e3b  2020-04-18 07:47   \n",
       "1758      1  ed1e051bd90472ffafa6bc29a021c4e4  2020-03-27 14:46   \n",
       "1759      1  a07e12c7863ceb9bb9336b28286ef183  2020-02-08 23:26   \n",
       "\n",
       "                               user_id  \\\n",
       "1755  43a971db6364c4ed7cd101feca243600   \n",
       "1756  43a971db6364c4ed7cd101feca243600   \n",
       "1757  43a971db6364c4ed7cd101feca243600   \n",
       "1758  43a971db6364c4ed7cd101feca243600   \n",
       "1759  43a971db6364c4ed7cd101feca243600   \n",
       "\n",
       "                                                   text  \\\n",
       "1755  【人民直播：#湖北疫情防控工作发布会#】2月29日下午四点，湖北省新型冠状病毒肺炎疫情防控工...   \n",
       "1756  【牛津大学最新研究：#新冠病毒在亚洲出现前已在其他地方出现#】据《每日电讯报》，牛津大学循证...   \n",
       "1757  【#世卫组织肯定中国订正新冠病例数据#】世界卫生组织卫生紧急项目技术负责人范凯尔克霍弗周五表...   \n",
       "1758  【#疫情防控期被没收的幺鸡回家了#】25日，四川成都天府新区公安分局兴隆派出所民警将“代养”...   \n",
       "1759  【#多地地标元宵节亮灯为武汉加油#】2月8日，农历正月十五，元宵佳节。深圳、杭州、西安、成都...   \n",
       "\n",
       "                                                pic_url  \\\n",
       "1755                                                 []   \n",
       "1756  ['https://wx4.sinaimg.cn/orj360/a716fd45ly1ggh...   \n",
       "1757                                                 []   \n",
       "1758                                                 []   \n",
       "1759                                                 []   \n",
       "\n",
       "                                              video_url  comment_num  \\\n",
       "1755  http://f.video.weibocdn.com/h0ri4Cgvlx07Buicyt...         2091   \n",
       "1756                                                NaN         6067   \n",
       "1757  http://miaopai.video.weibocdn.com/BdBn0Zyklx07...         2009   \n",
       "1758  http://miaopai.video.weibocdn.com/UDIQS4eslx07...          659   \n",
       "1759  http://f.video.weibocdn.com/003K3YDjlx07ANIqmK...         1841   \n",
       "\n",
       "      repost_num  like_num analysis News  \n",
       "1755         263     21436      NaN  NaN  \n",
       "1756        8209    311841      NaN  NaN  \n",
       "1757        1784     41240      NaN  NaN  \n",
       "1758         539      5327      NaN  NaN  \n",
       "1759        2186     16558      NaN  NaN  "
      ]
     },
     "execution_count": 8,
     "metadata": {},
     "output_type": "execute_result"
    }
   ],
   "source": [
    "df.tail()"
   ]
  },
  {
   "cell_type": "code",
   "execution_count": 9,
   "id": "4ef12ed5",
   "metadata": {},
   "outputs": [
    {
     "data": {
      "text/plain": [
       "label             0\n",
       "id                0\n",
       "date              0\n",
       "user_id           0\n",
       "text              0\n",
       "pic_url           0\n",
       "video_url      1435\n",
       "comment_num       0\n",
       "repost_num        0\n",
       "like_num          0\n",
       "analysis       1761\n",
       "News           1761\n",
       "dtype: int64"
      ]
     },
     "execution_count": 9,
     "metadata": {},
     "output_type": "execute_result"
    }
   ],
   "source": [
    "df.isnull().sum()"
   ]
  },
  {
   "cell_type": "code",
   "execution_count": 10,
   "id": "f8ba312e",
   "metadata": {},
   "outputs": [],
   "source": [
    "df['News'] = df['News'].fillna('')"
   ]
  },
  {
   "cell_type": "code",
   "execution_count": 11,
   "id": "c5535a8a",
   "metadata": {},
   "outputs": [
    {
     "data": {
      "text/plain": [
       "Index(['label', 'id', 'date', 'user_id', 'text', 'pic_url', 'video_url',\n",
       "       'comment_num', 'repost_num', 'like_num', 'analysis', 'News'],\n",
       "      dtype='object')"
      ]
     },
     "execution_count": 11,
     "metadata": {},
     "output_type": "execute_result"
    }
   ],
   "source": [
    "df.columns"
   ]
  },
  {
   "cell_type": "code",
   "execution_count": 12,
   "id": "859f8718",
   "metadata": {},
   "outputs": [],
   "source": [
    "features_dropped = ['id','date','user_id','text','pic_url','video_url','comment_num','repost_num','like_num','analysis',]\n",
    "df = df.drop(features_dropped, axis =1)"
   ]
  },
  {
   "cell_type": "code",
   "execution_count": 13,
   "id": "7f4cc3de",
   "metadata": {},
   "outputs": [
    {
     "data": {
      "text/plain": [
       "Index(['label', 'News'], dtype='object')"
      ]
     },
     "execution_count": 13,
     "metadata": {},
     "output_type": "execute_result"
    }
   ],
   "source": [
    "df.columns"
   ]
  },
  {
   "cell_type": "code",
   "execution_count": 14,
   "id": "6575df87",
   "metadata": {},
   "outputs": [
    {
     "data": {
      "text/html": [
       "<div>\n",
       "<style scoped>\n",
       "    .dataframe tbody tr th:only-of-type {\n",
       "        vertical-align: middle;\n",
       "    }\n",
       "\n",
       "    .dataframe tbody tr th {\n",
       "        vertical-align: top;\n",
       "    }\n",
       "\n",
       "    .dataframe thead th {\n",
       "        text-align: right;\n",
       "    }\n",
       "</style>\n",
       "<table border=\"1\" class=\"dataframe\">\n",
       "  <thead>\n",
       "    <tr style=\"text-align: right;\">\n",
       "      <th></th>\n",
       "      <th>label</th>\n",
       "      <th>News</th>\n",
       "    </tr>\n",
       "  </thead>\n",
       "  <tbody>\n",
       "    <tr>\n",
       "      <th>0</th>\n",
       "      <td>0</td>\n",
       "      <td>这是发生在重症隔离病房里，一个小朋友对医生说的话我不想让妈妈哭😭 不是晚一点，是你不会si的...</td>\n",
       "    </tr>\n",
       "    <tr>\n",
       "      <th>1</th>\n",
       "      <td>0</td>\n",
       "      <td>#北京健康宝崩了#，没了健康宝，什么也做不了，#北京# 上班也迟到了，希望能尽快修好，加油健...</td>\n",
       "    </tr>\n",
       "    <tr>\n",
       "      <th>2</th>\n",
       "      <td>0</td>\n",
       "      <td>【疫情当前，大意不得：全国已有12起复工后聚集性疫情发生】近期全国陆续复工，据不完全统计，复...</td>\n",
       "    </tr>\n",
       "    <tr>\n",
       "      <th>3</th>\n",
       "      <td>0</td>\n",
       "      <td>学校开学时间：高三，初三，3月2日开学，高一，高二，初一，初二，3月9日开学，小学4一6年级...</td>\n",
       "    </tr>\n",
       "    <tr>\n",
       "      <th>4</th>\n",
       "      <td>0</td>\n",
       "      <td>美国的10艘医疗军舰已经开进纽约港，每艘船上有1000张病床，上面拥有所有的医疗抢救设施，每...</td>\n",
       "    </tr>\n",
       "  </tbody>\n",
       "</table>\n",
       "</div>"
      ],
      "text/plain": [
       "   label                                               News\n",
       "0      0  这是发生在重症隔离病房里，一个小朋友对医生说的话我不想让妈妈哭😭 不是晚一点，是你不会si的...\n",
       "1      0  #北京健康宝崩了#，没了健康宝，什么也做不了，#北京# 上班也迟到了，希望能尽快修好，加油健...\n",
       "2      0  【疫情当前，大意不得：全国已有12起复工后聚集性疫情发生】近期全国陆续复工，据不完全统计，复...\n",
       "3      0  学校开学时间：高三，初三，3月2日开学，高一，高二，初一，初二，3月9日开学，小学4一6年级...\n",
       "4      0  美国的10艘医疗军舰已经开进纽约港，每艘船上有1000张病床，上面拥有所有的医疗抢救设施，每..."
      ]
     },
     "execution_count": 14,
     "metadata": {},
     "output_type": "execute_result"
    }
   ],
   "source": [
    "df.head()"
   ]
  },
  {
   "cell_type": "markdown",
   "id": "79c74d09",
   "metadata": {},
   "source": [
    "# Text Processing"
   ]
  },
  {
   "cell_type": "code",
   "execution_count": 15,
   "id": "3f6fcc4f",
   "metadata": {},
   "outputs": [],
   "source": [
    "def wordopt(text):\n",
    "    text = text.lower()\n",
    "    text = re.sub('\\[.*?\\]', '', text)\n",
    "    text = re.sub(\"\\\\W\",\" \",text) \n",
    "    text = re.sub('https?://\\S+|www\\.\\S+', '', text)\n",
    "    text = re.sub('<.*?>+', '', text)\n",
    "    text = re.sub('\\n', '', text)\n",
    "    text = re.sub('\\w*\\d\\w*', '', text)    \n",
    "    return text"
   ]
  },
  {
   "cell_type": "code",
   "execution_count": 16,
   "id": "f22637ed",
   "metadata": {},
   "outputs": [],
   "source": [
    "df['News'] = df['News'].apply(wordopt)"
   ]
  },
  {
   "cell_type": "code",
   "execution_count": 17,
   "id": "2fcb75d7",
   "metadata": {},
   "outputs": [
    {
     "data": {
      "text/html": [
       "<div>\n",
       "<style scoped>\n",
       "    .dataframe tbody tr th:only-of-type {\n",
       "        vertical-align: middle;\n",
       "    }\n",
       "\n",
       "    .dataframe tbody tr th {\n",
       "        vertical-align: top;\n",
       "    }\n",
       "\n",
       "    .dataframe thead th {\n",
       "        text-align: right;\n",
       "    }\n",
       "</style>\n",
       "<table border=\"1\" class=\"dataframe\">\n",
       "  <thead>\n",
       "    <tr style=\"text-align: right;\">\n",
       "      <th></th>\n",
       "      <th>label</th>\n",
       "      <th>News</th>\n",
       "    </tr>\n",
       "  </thead>\n",
       "  <tbody>\n",
       "    <tr>\n",
       "      <th>0</th>\n",
       "      <td>0</td>\n",
       "      <td>这是发生在重症隔离病房里 一个小朋友对医生说的话我不想让妈妈哭  不是晚一点 是你不会si的...</td>\n",
       "    </tr>\n",
       "    <tr>\n",
       "      <th>1</th>\n",
       "      <td>0</td>\n",
       "      <td>北京健康宝崩了  没了健康宝 什么也做不了  北京  上班也迟到了 希望能尽快修好 加油健...</td>\n",
       "    </tr>\n",
       "    <tr>\n",
       "      <th>2</th>\n",
       "      <td>0</td>\n",
       "      <td>疫情当前 大意不得  近期全国陆续复工 据不完全统计     包含内蒙古赤峰一发电厂 山西...</td>\n",
       "    </tr>\n",
       "    <tr>\n",
       "      <th>3</th>\n",
       "      <td>0</td>\n",
       "      <td>学校开学时间 高三 初三  高一 高二 初一 初二    幼儿园  大学 职校继续延时 直至...</td>\n",
       "    </tr>\n",
       "    <tr>\n",
       "      <th>4</th>\n",
       "      <td>0</td>\n",
       "      <td>上面拥有所有的医疗抢救设施 每艘船相当于一个雷神山医院 而且美国还有很强的建立field...</td>\n",
       "    </tr>\n",
       "  </tbody>\n",
       "</table>\n",
       "</div>"
      ],
      "text/plain": [
       "   label                                               News\n",
       "0      0  这是发生在重症隔离病房里 一个小朋友对医生说的话我不想让妈妈哭  不是晚一点 是你不会si的...\n",
       "1      0   北京健康宝崩了  没了健康宝 什么也做不了  北京  上班也迟到了 希望能尽快修好 加油健...\n",
       "2      0   疫情当前 大意不得  近期全国陆续复工 据不完全统计     包含内蒙古赤峰一发电厂 山西...\n",
       "3      0  学校开学时间 高三 初三  高一 高二 初一 初二    幼儿园  大学 职校继续延时 直至...\n",
       "4      0    上面拥有所有的医疗抢救设施 每艘船相当于一个雷神山医院 而且美国还有很强的建立field..."
      ]
     },
     "execution_count": 17,
     "metadata": {},
     "output_type": "execute_result"
    }
   ],
   "source": [
    "df.head()"
   ]
  },
  {
   "cell_type": "code",
   "execution_count": 18,
   "id": "f78b9cbe",
   "metadata": {},
   "outputs": [],
   "source": [
    "X = df['News']\n",
    "Y = df['label']"
   ]
  },
  {
   "cell_type": "code",
   "execution_count": 57,
   "id": "489c27ad",
   "metadata": {},
   "outputs": [],
   "source": [
    "x_train, x_test, y_train, y_test = train_test_split(X, Y, test_size=0.85, random_state= 12)"
   ]
  },
  {
   "cell_type": "code",
   "execution_count": 58,
   "id": "cf070a35",
   "metadata": {},
   "outputs": [],
   "source": [
    "vectorization = TfidfVectorizer()\n",
    "xv_train = vectorization.fit_transform(x_train)\n",
    "xv_test = vectorization.transform(x_test)"
   ]
  },
  {
   "cell_type": "markdown",
   "id": "7ef35e1b",
   "metadata": {},
   "source": [
    "# Random Forest"
   ]
  },
  {
   "cell_type": "code",
   "execution_count": 48,
   "id": "cb090720",
   "metadata": {},
   "outputs": [],
   "source": [
    "plot1=[]"
   ]
  },
  {
   "cell_type": "code",
   "execution_count": 49,
   "id": "fb9fa91c",
   "metadata": {},
   "outputs": [
    {
     "name": "stdout",
     "output_type": "stream",
     "text": [
      "Accuracy of RFC model is  0.9994410285075461\n"
     ]
    }
   ],
   "source": [
    "RFC_model = RandomForestClassifier(random_state=0)\n",
    "\n",
    "#Fitting training set to the model\n",
    "RFC_model.fit(xv_train, y_train)\n",
    "\n",
    "#Predicting the test set results based on the model\n",
    "rfc_y_pred = RFC_model.predict(xv_test)\n",
    "\n",
    "#Calculate the accuracy score of this model\n",
    "score = accuracy_score(y_test,rfc_y_pred)\n",
    "plot1.append(score)\n",
    "print('Accuracy of RFC model is ', score)"
   ]
  },
  {
   "cell_type": "markdown",
   "id": "b03d2463",
   "metadata": {},
   "source": [
    "# LogisticRegression"
   ]
  },
  {
   "cell_type": "code",
   "execution_count": 50,
   "id": "d19b105d",
   "metadata": {},
   "outputs": [
    {
     "name": "stdout",
     "output_type": "stream",
     "text": [
      "Accuracy of LR model is  0.9983230855226384\n"
     ]
    }
   ],
   "source": [
    "LR_model = LogisticRegression()\n",
    "\n",
    "#Fitting training set to the model\n",
    "LR_model.fit(xv_train,y_train)\n",
    "\n",
    "#Predicting the test set results based on the model\n",
    "lr_y_pred = LR_model.predict(xv_test)\n",
    "\n",
    "#Calculate the accurracy of this model\n",
    "score = accuracy_score(y_test,lr_y_pred)\n",
    "plot1.append(score)\n",
    "print('Accuracy of LR model is ', score)"
   ]
  },
  {
   "cell_type": "markdown",
   "id": "25a896e0",
   "metadata": {},
   "source": [
    "# Decision Tree"
   ]
  },
  {
   "cell_type": "code",
   "execution_count": 51,
   "id": "d8cdd696",
   "metadata": {},
   "outputs": [
    {
     "name": "stdout",
     "output_type": "stream",
     "text": [
      "Accuracy of DT model is  0.9994410285075461\n"
     ]
    }
   ],
   "source": [
    "DT_model = DecisionTreeClassifier()\n",
    "\n",
    "#Fitting training set to the model\n",
    "DT_model.fit(xv_train,y_train)\n",
    "\n",
    "#Predicting the test set results based on the model\n",
    "dt_y_pred = DT_model.predict(xv_test)\n",
    "\n",
    "#Calculate the accurracy of this model\n",
    "score = accuracy_score(y_test,dt_y_pred)\n",
    "plot1.append(score)\n",
    "print('Accuracy of DT model is ', score)"
   ]
  },
  {
   "cell_type": "markdown",
   "id": "48c49e1b",
   "metadata": {},
   "source": [
    "# KNN CLASSIFIER"
   ]
  },
  {
   "cell_type": "code",
   "execution_count": 59,
   "id": "45c86f2f",
   "metadata": {},
   "outputs": [
    {
     "name": "stdout",
     "output_type": "stream",
     "text": [
      "Accuracy of KNN model is  0.9815539407490218\n"
     ]
    }
   ],
   "source": [
    "KNN_model =KNeighborsClassifier(n_neighbors=5, metric='minkowski', p=2)\n",
    "\n",
    "#Fitting training set to the model\n",
    "KNN_model.fit(xv_train,y_train)\n",
    "\n",
    "#Predicting the test set results based on the model\n",
    "knn_y_pred = KNN_model.predict(xv_test)\n",
    "\n",
    "#Calculate the accurracy of this model\n",
    "score = accuracy_score(y_test,knn_y_pred)\n",
    "plot1.append(score)\n",
    "print('Accuracy of KNN model is ', score)"
   ]
  },
  {
   "cell_type": "markdown",
   "id": "ba142e9b",
   "metadata": {},
   "source": [
    "# Linear SVM"
   ]
  },
  {
   "cell_type": "code",
   "execution_count": 53,
   "id": "28ed3932",
   "metadata": {},
   "outputs": [
    {
     "name": "stdout",
     "output_type": "stream",
     "text": [
      "Accuracy of SVM model is  0.9994410285075461\n"
     ]
    }
   ],
   "source": [
    "svm_model = SVC(kernel='linear')\n",
    "\n",
    "#Fitting training set to the model\n",
    "svm_model.fit(xv_train,y_train)\n",
    "\n",
    "#Predicting the test set results based on the model\n",
    "svm_y_pred = svm_model.predict(xv_test)\n",
    "\n",
    "#Calculate the accuracy score of this model\n",
    "score = accuracy_score(y_test,svm_y_pred)\n",
    "plot1.append(score)\n",
    "print('Accuracy of SVM model is ', score)"
   ]
  },
  {
   "cell_type": "markdown",
   "id": "feaf023c",
   "metadata": {},
   "source": [
    "# Gradient Boosting"
   ]
  },
  {
   "cell_type": "code",
   "execution_count": 40,
   "id": "02ed016c",
   "metadata": {},
   "outputs": [
    {
     "name": "stdout",
     "output_type": "stream",
     "text": [
      "Accuracy of GB model is  0.9994410285075461\n"
     ]
    }
   ],
   "source": [
    "GB_model =GradientBoostingClassifier(n_estimators=100, learning_rate=1.0,max_depth=1, random_state=0).fit(xv_train,y_train)\n",
    "\n",
    "#Fitting training set to the model\n",
    "GB_model.fit(xv_train,y_train)\n",
    "\n",
    "#Predicting the test set results based on the model\n",
    "gb_y_pred = GB_model.predict(xv_test)\n",
    "\n",
    "#Calculate the accurracy of this model\n",
    "score = accuracy_score(y_test,gb_y_pred)\n",
    "plot1.append(score)\n",
    "print('Accuracy of GB model is ', score)"
   ]
  },
  {
   "cell_type": "markdown",
   "id": "f194d92f",
   "metadata": {},
   "source": [
    "# Manual Testing"
   ]
  },
  {
   "cell_type": "code",
   "execution_count": 41,
   "id": "b3ceac1e",
   "metadata": {},
   "outputs": [],
   "source": [
    "def fake_news_det(news):\n",
    "    input_data = {\"text\":[news]}\n",
    "    new_def_test = pd.DataFrame(input_data)\n",
    "    new_def_test[\"text\"] = new_def_test[\"text\"].apply(wordopt) \n",
    "    new_x_test = new_def_test[\"text\"]\n",
    "    #print(new_x_test)\n",
    "    vectorized_input_data = vectorization.transform(new_x_test)\n",
    "    prediction = DT_model.predict(vectorized_input_data)\n",
    "    if prediction == 1:\n",
    "        print(\"Not a Fake News\")\n",
    "    else:\n",
    "        print(\"Fake News\")"
   ]
  },
  {
   "cell_type": "code",
   "execution_count": 42,
   "id": "e937eece",
   "metadata": {},
   "outputs": [
    {
     "name": "stdout",
     "output_type": "stream",
     "text": [
      "Not a Fake News\n"
     ]
    }
   ],
   "source": [
    "fake_news_det(\"这是发生在重症隔离病房里，一个小朋友对医生说的话我不想让妈妈哭\") "
   ]
  },
  {
   "cell_type": "markdown",
   "id": "ea79609f",
   "metadata": {},
   "source": [
    "# Plotting"
   ]
  },
  {
   "cell_type": "code",
   "execution_count": 43,
   "id": "ceaeadcf",
   "metadata": {},
   "outputs": [
    {
     "data": {
      "image/png": "[encoded data removed]",
      "text/plain": [
       "<Figure size 432x288 with 1 Axes>"
      ]
     },
     "metadata": {
      "needs_background": "light"
     },
     "output_type": "display_data"
    }
   ],
   "source": [
    "import numpy as np\n",
    "import matplotlib.pyplot as plt\n",
    "\n",
    "x = np.array([\"RFC\",\"LR\",\"DT\",\"KNN\",\"SVM\",\"GB\"])\n",
    "y = plot1\n",
    "\n",
    "# plotting\n",
    "plt.title(\"Overall accuracy score for covid-19 dataset\")\n",
    "plt.xlabel(\"model\")\n",
    "plt.ylabel(\"Accuracy of the model\")\n",
    "plt.plot(x, y, color =\"green\")\n",
    "plt.show()"
   ]
  },
  {
   "cell_type": "code",
   "execution_count": 31,
   "id": "5cbd76ed",
   "metadata": {},
   "outputs": [
    {
     "data": {
      "image/png": "[encoded data removed]",
      "text/plain": [
       "<Figure size 432x288 with 1 Axes>"
      ]
     },
     "metadata": {
      "needs_background": "light"
     },
     "output_type": "display_data"
    }
   ],
   "source": [
    "import matplotlib.pyplot as plt\n",
    "fig = plt.figure()\n",
    "ax = fig.add_axes([0,0,1,1])\n",
    "x = np.array([\"RFC\",\"LR\",\"DT\",\"KNN\",\"SVM\",\"GB\"])\n",
    "y = plot1\n",
    "ax.bar(x,y)\n",
    "plt.title(\"Overall accuracy score for covid-19 dataset\")\n",
    "plt.xlabel(\"model\")\n",
    "plt.ylabel(\"Accuracy of the model\")\n",
    "plt.show()"
   ]
  },
  {
   "cell_type": "code",
   "execution_count": null,
   "id": "e27e038f",
   "metadata": {},
   "outputs": [],
   "source": []
  }
 ],
 "metadata": {
  "kernelspec": {
   "display_name": "Python 3 (ipykernel)",
   "language": "python",
   "name": "python3"
  },
  "language_info": {
   "codemirror_mode": {
    "name": "ipython",
    "version": 3
   },
   "file_extension": ".py",
   "mimetype": "text/x-python",
   "name": "python",
   "nbconvert_exporter": "python",
   "pygments_lexer": "ipython3",
   "version": "3.9.12"
  }
 },
 "nbformat": 4,
 "nbformat_minor": 5
}
